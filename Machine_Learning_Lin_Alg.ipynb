{
 "cells": [
  {
   "cell_type": "code",
   "execution_count": 2,
   "id": "bfe0253a-fe30-427d-b7b4-6e1d4c3d46fd",
   "metadata": {},
   "outputs": [],
   "source": [
    "import numpy as np\n",
    "import matplotlib.pyplot as plt\n",
    "import tensorflow as tf\n",
    "import torch\n",
    "import matplotlib.pyplot as plt"
   ]
  },
  {
   "cell_type": "markdown",
   "id": "c16f8c68",
   "metadata": {},
   "source": [
    "Singular Value Decomposition (SVD)"
   ]
  },
  {
   "cell_type": "markdown",
   "id": "288dd8a5",
   "metadata": {},
   "source": [
    "A = UD(V)^T\n",
    "\n",
    "Where: \n",
    "    U is an orthogonal m x m matrix; its columns are the left-singular vectors of A.\n",
    "    V is an orthogonal n x n matrix; its columns are the right-singular vectors of A.\n",
    "    D is a diagonal m x n matrix; elements along its diagonal are the sigular values of A."
   ]
  },
  {
   "cell_type": "code",
   "execution_count": 3,
   "id": "4670f24c",
   "metadata": {},
   "outputs": [
    {
     "data": {
      "text/plain": [
       "array([[-1,  2],\n",
       "       [ 3, -2],\n",
       "       [ 5,  7]])"
      ]
     },
     "execution_count": 3,
     "metadata": {},
     "output_type": "execute_result"
    }
   ],
   "source": [
    "A = np.array([[-1,2],[3,-2],[5,7]])\n",
    "A"
   ]
  },
  {
   "cell_type": "code",
   "execution_count": 4,
   "id": "77b8e0ec",
   "metadata": {},
   "outputs": [],
   "source": [
    "U, d, VT = np.linalg.svd(A)"
   ]
  },
  {
   "cell_type": "code",
   "execution_count": 5,
   "id": "2ca11ecd",
   "metadata": {},
   "outputs": [
    {
     "data": {
      "text/plain": [
       "array([[ 0.12708324,  0.47409506,  0.87125411],\n",
       "       [ 0.00164602, -0.87847553,  0.47778451],\n",
       "       [ 0.99189069, -0.0592843 , -0.11241989]])"
      ]
     },
     "execution_count": 5,
     "metadata": {},
     "output_type": "execute_result"
    }
   ],
   "source": [
    "U"
   ]
  },
  {
   "cell_type": "code",
   "execution_count": 6,
   "id": "2603df03",
   "metadata": {},
   "outputs": [
    {
     "data": {
      "text/plain": [
       "array([[ 0.55798885,  0.82984845],\n",
       "       [-0.82984845,  0.55798885]])"
      ]
     },
     "execution_count": 6,
     "metadata": {},
     "output_type": "execute_result"
    }
   ],
   "source": [
    "VT"
   ]
  },
  {
   "cell_type": "code",
   "execution_count": 7,
   "id": "4ef436c9",
   "metadata": {},
   "outputs": [
    {
     "data": {
      "text/plain": [
       "array([8.66918448, 4.10429538])"
      ]
     },
     "execution_count": 7,
     "metadata": {},
     "output_type": "execute_result"
    }
   ],
   "source": [
    "d"
   ]
  },
  {
   "cell_type": "code",
   "execution_count": 8,
   "id": "eb4a3c95",
   "metadata": {},
   "outputs": [
    {
     "data": {
      "text/plain": [
       "array([[8.66918448, 0.        ],\n",
       "       [0.        , 4.10429538]])"
      ]
     },
     "execution_count": 8,
     "metadata": {},
     "output_type": "execute_result"
    }
   ],
   "source": [
    "np.diag(d)"
   ]
  },
  {
   "cell_type": "code",
   "execution_count": 9,
   "id": "6ece3eba",
   "metadata": {},
   "outputs": [
    {
     "data": {
      "text/plain": [
       "array([[8.66918448, 0.        ],\n",
       "       [0.        , 4.10429538],\n",
       "       [0.        , 0.        ]])"
      ]
     },
     "execution_count": 9,
     "metadata": {},
     "output_type": "execute_result"
    }
   ],
   "source": [
    "D = np.concatenate((np.diag(d),[[0,0]]), axis=0)\n",
    "D"
   ]
  },
  {
   "cell_type": "code",
   "execution_count": 10,
   "id": "9c179dbb",
   "metadata": {},
   "outputs": [
    {
     "data": {
      "text/plain": [
       "array([[-1.,  2.],\n",
       "       [ 3., -2.],\n",
       "       [ 5.,  7.]])"
      ]
     },
     "execution_count": 10,
     "metadata": {},
     "output_type": "execute_result"
    }
   ],
   "source": [
    "np.dot(U, np.dot(D, VT))"
   ]
  },
  {
   "cell_type": "code",
   "execution_count": 11,
   "id": "f10825d2",
   "metadata": {},
   "outputs": [
    {
     "data": {
      "text/plain": [
       "tensor([[25.,  2., -5.],\n",
       "        [ 3., -2.,  1.],\n",
       "        [ 5.,  7.,  4.]])"
      ]
     },
     "execution_count": 11,
     "metadata": {},
     "output_type": "execute_result"
    }
   ],
   "source": [
    "P = torch.tensor([[25, 2, -5], [3,-2, 1],[5,7,4.]])\n",
    "P"
   ]
  },
  {
   "cell_type": "code",
   "execution_count": 12,
   "id": "1c0fdc6d",
   "metadata": {},
   "outputs": [],
   "source": [
    "U, S, Vh = torch.linalg.svd(P)"
   ]
  },
  {
   "cell_type": "code",
   "execution_count": 13,
   "id": "c53fb418",
   "metadata": {},
   "outputs": [
    {
     "data": {
      "text/plain": [
       "tensor([[-0.9757,  0.1823,  0.1214],\n",
       "        [-0.0975,  0.1350, -0.9860],\n",
       "        [-0.1961, -0.9739, -0.1140]])"
      ]
     },
     "execution_count": 13,
     "metadata": {},
     "output_type": "execute_result"
    }
   ],
   "source": [
    "U"
   ]
  },
  {
   "cell_type": "code",
   "execution_count": 14,
   "id": "0375b31e",
   "metadata": {},
   "outputs": [],
   "source": [
    "import time\n",
    "from PIL import Image"
   ]
  },
  {
   "cell_type": "code",
   "execution_count": null,
   "id": "f4323fca",
   "metadata": {},
   "outputs": [],
   "source": [
    "! wget "
   ]
  }
 ],
 "metadata": {
  "kernelspec": {
   "display_name": "Python 3 (ipykernel)",
   "language": "python",
   "name": "python3"
  },
  "language_info": {
   "codemirror_mode": {
    "name": "ipython",
    "version": 3
   },
   "file_extension": ".py",
   "mimetype": "text/x-python",
   "name": "python",
   "nbconvert_exporter": "python",
   "pygments_lexer": "ipython3",
   "version": "3.11.8"
  }
 },
 "nbformat": 4,
 "nbformat_minor": 5
}
